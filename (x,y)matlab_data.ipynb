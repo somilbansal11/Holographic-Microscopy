{
  "cells": [
    {
      "cell_type": "markdown",
      "id": "4bdb758e",
      "metadata": {
        "id": "4bdb758e"
      },
      "source": [
        "# Install mat73 to load MATLAB Dataset file"
      ]
    },
    {
      "cell_type": "code",
      "execution_count": null,
      "id": "b85ec2f7",
      "metadata": {
        "colab": {
          "base_uri": "https://localhost:8080/"
        },
        "id": "b85ec2f7",
        "outputId": "c00c685e-70d2-4dc8-ffdd-a95ff678d34b"
      },
      "outputs": [
        {
          "output_type": "stream",
          "name": "stdout",
          "text": [
            "Looking in indexes: https://pypi.org/simple, https://us-python.pkg.dev/colab-wheels/public/simple/\n",
            "Collecting mat73\n",
            "  Downloading mat73-0.59-py3-none-any.whl (19 kB)\n",
            "Requirement already satisfied: h5py in /usr/local/lib/python3.7/dist-packages (from mat73) (3.1.0)\n",
            "Requirement already satisfied: numpy in /usr/local/lib/python3.7/dist-packages (from mat73) (1.21.6)\n",
            "Requirement already satisfied: cached-property in /usr/local/lib/python3.7/dist-packages (from h5py->mat73) (1.5.2)\n",
            "Installing collected packages: mat73\n",
            "Successfully installed mat73-0.59\n"
          ]
        }
      ],
      "source": [
        "pip install mat73"
      ]
    },
    {
      "cell_type": "markdown",
      "id": "d3fd7ce4",
      "metadata": {
        "id": "d3fd7ce4"
      },
      "source": [
        "# Importing required libraries"
      ]
    },
    {
      "cell_type": "code",
      "execution_count": null,
      "id": "69db79ba",
      "metadata": {
        "id": "69db79ba"
      },
      "outputs": [],
      "source": [
        "import mat73\n",
        "import numpy as np\n",
        "import matplotlib.pyplot as plt\n",
        "import tensorflow as tf;\n",
        "from tensorflow.keras import layers;\n",
        "from tensorflow.keras import Model,Sequential;\n",
        "from tensorflow.keras.callbacks import EarlyStopping\n",
        "from tensorflow.keras import regularizers\n",
        "from keras.layers import BatchNormalization"
      ]
    },
    {
      "cell_type": "code",
      "execution_count": null,
      "id": "7ef3455b",
      "metadata": {
        "colab": {
          "base_uri": "https://localhost:8080/",
          "height": 502
        },
        "id": "7ef3455b",
        "outputId": "66205014-47b6-408a-a906-77703df6f4ae"
      },
      "outputs": [
        {
          "output_type": "error",
          "ename": "ImportError",
          "evalue": "ignored",
          "traceback": [
            "\u001b[0;31m---------------------------------------------------------------------------\u001b[0m",
            "\u001b[0;31mImportError\u001b[0m                               Traceback (most recent call last)",
            "\u001b[0;32m<ipython-input-4-5f4e3dd32b5c>\u001b[0m in \u001b[0;36m<module>\u001b[0;34m\u001b[0m\n\u001b[0;32m----> 1\u001b[0;31m \u001b[0mget_ipython\u001b[0m\u001b[0;34m(\u001b[0m\u001b[0;34m)\u001b[0m\u001b[0;34m.\u001b[0m\u001b[0mrun_line_magic\u001b[0m\u001b[0;34m(\u001b[0m\u001b[0;34m'matplotlib'\u001b[0m\u001b[0;34m,\u001b[0m \u001b[0;34m'tk'\u001b[0m\u001b[0;34m)\u001b[0m\u001b[0;34m\u001b[0m\u001b[0;34m\u001b[0m\u001b[0m\n\u001b[0m",
            "\u001b[0;32m/usr/local/lib/python3.7/dist-packages/IPython/core/interactiveshell.py\u001b[0m in \u001b[0;36mrun_line_magic\u001b[0;34m(self, magic_name, line, _stack_depth)\u001b[0m\n\u001b[1;32m   2312\u001b[0m                 \u001b[0mkwargs\u001b[0m\u001b[0;34m[\u001b[0m\u001b[0;34m'local_ns'\u001b[0m\u001b[0;34m]\u001b[0m \u001b[0;34m=\u001b[0m \u001b[0msys\u001b[0m\u001b[0;34m.\u001b[0m\u001b[0m_getframe\u001b[0m\u001b[0;34m(\u001b[0m\u001b[0mstack_depth\u001b[0m\u001b[0;34m)\u001b[0m\u001b[0;34m.\u001b[0m\u001b[0mf_locals\u001b[0m\u001b[0;34m\u001b[0m\u001b[0;34m\u001b[0m\u001b[0m\n\u001b[1;32m   2313\u001b[0m             \u001b[0;32mwith\u001b[0m \u001b[0mself\u001b[0m\u001b[0;34m.\u001b[0m\u001b[0mbuiltin_trap\u001b[0m\u001b[0;34m:\u001b[0m\u001b[0;34m\u001b[0m\u001b[0;34m\u001b[0m\u001b[0m\n\u001b[0;32m-> 2314\u001b[0;31m                 \u001b[0mresult\u001b[0m \u001b[0;34m=\u001b[0m \u001b[0mfn\u001b[0m\u001b[0;34m(\u001b[0m\u001b[0;34m*\u001b[0m\u001b[0margs\u001b[0m\u001b[0;34m,\u001b[0m \u001b[0;34m**\u001b[0m\u001b[0mkwargs\u001b[0m\u001b[0;34m)\u001b[0m\u001b[0;34m\u001b[0m\u001b[0;34m\u001b[0m\u001b[0m\n\u001b[0m\u001b[1;32m   2315\u001b[0m             \u001b[0;32mreturn\u001b[0m \u001b[0mresult\u001b[0m\u001b[0;34m\u001b[0m\u001b[0;34m\u001b[0m\u001b[0m\n\u001b[1;32m   2316\u001b[0m \u001b[0;34m\u001b[0m\u001b[0m\n",
            "\u001b[0;32m<decorator-gen-101>\u001b[0m in \u001b[0;36mmatplotlib\u001b[0;34m(self, line)\u001b[0m\n",
            "\u001b[0;32m/usr/local/lib/python3.7/dist-packages/IPython/core/magic.py\u001b[0m in \u001b[0;36m<lambda>\u001b[0;34m(f, *a, **k)\u001b[0m\n\u001b[1;32m    185\u001b[0m     \u001b[0;31m# but it's overkill for just that one bit of state.\u001b[0m\u001b[0;34m\u001b[0m\u001b[0;34m\u001b[0m\u001b[0;34m\u001b[0m\u001b[0m\n\u001b[1;32m    186\u001b[0m     \u001b[0;32mdef\u001b[0m \u001b[0mmagic_deco\u001b[0m\u001b[0;34m(\u001b[0m\u001b[0marg\u001b[0m\u001b[0;34m)\u001b[0m\u001b[0;34m:\u001b[0m\u001b[0;34m\u001b[0m\u001b[0;34m\u001b[0m\u001b[0m\n\u001b[0;32m--> 187\u001b[0;31m         \u001b[0mcall\u001b[0m \u001b[0;34m=\u001b[0m \u001b[0;32mlambda\u001b[0m \u001b[0mf\u001b[0m\u001b[0;34m,\u001b[0m \u001b[0;34m*\u001b[0m\u001b[0ma\u001b[0m\u001b[0;34m,\u001b[0m \u001b[0;34m**\u001b[0m\u001b[0mk\u001b[0m\u001b[0;34m:\u001b[0m \u001b[0mf\u001b[0m\u001b[0;34m(\u001b[0m\u001b[0;34m*\u001b[0m\u001b[0ma\u001b[0m\u001b[0;34m,\u001b[0m \u001b[0;34m**\u001b[0m\u001b[0mk\u001b[0m\u001b[0;34m)\u001b[0m\u001b[0;34m\u001b[0m\u001b[0;34m\u001b[0m\u001b[0m\n\u001b[0m\u001b[1;32m    188\u001b[0m \u001b[0;34m\u001b[0m\u001b[0m\n\u001b[1;32m    189\u001b[0m         \u001b[0;32mif\u001b[0m \u001b[0mcallable\u001b[0m\u001b[0;34m(\u001b[0m\u001b[0marg\u001b[0m\u001b[0;34m)\u001b[0m\u001b[0;34m:\u001b[0m\u001b[0;34m\u001b[0m\u001b[0;34m\u001b[0m\u001b[0m\n",
            "\u001b[0;32m/usr/local/lib/python3.7/dist-packages/IPython/core/magics/pylab.py\u001b[0m in \u001b[0;36mmatplotlib\u001b[0;34m(self, line)\u001b[0m\n\u001b[1;32m     97\u001b[0m             \u001b[0mprint\u001b[0m\u001b[0;34m(\u001b[0m\u001b[0;34m\"Available matplotlib backends: %s\"\u001b[0m \u001b[0;34m%\u001b[0m \u001b[0mbackends_list\u001b[0m\u001b[0;34m)\u001b[0m\u001b[0;34m\u001b[0m\u001b[0;34m\u001b[0m\u001b[0m\n\u001b[1;32m     98\u001b[0m         \u001b[0;32melse\u001b[0m\u001b[0;34m:\u001b[0m\u001b[0;34m\u001b[0m\u001b[0;34m\u001b[0m\u001b[0m\n\u001b[0;32m---> 99\u001b[0;31m             \u001b[0mgui\u001b[0m\u001b[0;34m,\u001b[0m \u001b[0mbackend\u001b[0m \u001b[0;34m=\u001b[0m \u001b[0mself\u001b[0m\u001b[0;34m.\u001b[0m\u001b[0mshell\u001b[0m\u001b[0;34m.\u001b[0m\u001b[0menable_matplotlib\u001b[0m\u001b[0;34m(\u001b[0m\u001b[0margs\u001b[0m\u001b[0;34m.\u001b[0m\u001b[0mgui\u001b[0m\u001b[0;34m.\u001b[0m\u001b[0mlower\u001b[0m\u001b[0;34m(\u001b[0m\u001b[0;34m)\u001b[0m \u001b[0;32mif\u001b[0m \u001b[0misinstance\u001b[0m\u001b[0;34m(\u001b[0m\u001b[0margs\u001b[0m\u001b[0;34m.\u001b[0m\u001b[0mgui\u001b[0m\u001b[0;34m,\u001b[0m \u001b[0mstr\u001b[0m\u001b[0;34m)\u001b[0m \u001b[0;32melse\u001b[0m \u001b[0margs\u001b[0m\u001b[0;34m.\u001b[0m\u001b[0mgui\u001b[0m\u001b[0;34m)\u001b[0m\u001b[0;34m\u001b[0m\u001b[0;34m\u001b[0m\u001b[0m\n\u001b[0m\u001b[1;32m    100\u001b[0m             \u001b[0mself\u001b[0m\u001b[0;34m.\u001b[0m\u001b[0m_show_matplotlib_backend\u001b[0m\u001b[0;34m(\u001b[0m\u001b[0margs\u001b[0m\u001b[0;34m.\u001b[0m\u001b[0mgui\u001b[0m\u001b[0;34m,\u001b[0m \u001b[0mbackend\u001b[0m\u001b[0;34m)\u001b[0m\u001b[0;34m\u001b[0m\u001b[0;34m\u001b[0m\u001b[0m\n\u001b[1;32m    101\u001b[0m \u001b[0;34m\u001b[0m\u001b[0m\n",
            "\u001b[0;32m/usr/local/lib/python3.7/dist-packages/IPython/core/interactiveshell.py\u001b[0m in \u001b[0;36menable_matplotlib\u001b[0;34m(self, gui)\u001b[0m\n\u001b[1;32m   3412\u001b[0m                 \u001b[0mgui\u001b[0m\u001b[0;34m,\u001b[0m \u001b[0mbackend\u001b[0m \u001b[0;34m=\u001b[0m \u001b[0mpt\u001b[0m\u001b[0;34m.\u001b[0m\u001b[0mfind_gui_and_backend\u001b[0m\u001b[0;34m(\u001b[0m\u001b[0mself\u001b[0m\u001b[0;34m.\u001b[0m\u001b[0mpylab_gui_select\u001b[0m\u001b[0;34m)\u001b[0m\u001b[0;34m\u001b[0m\u001b[0;34m\u001b[0m\u001b[0m\n\u001b[1;32m   3413\u001b[0m \u001b[0;34m\u001b[0m\u001b[0m\n\u001b[0;32m-> 3414\u001b[0;31m         \u001b[0mpt\u001b[0m\u001b[0;34m.\u001b[0m\u001b[0mactivate_matplotlib\u001b[0m\u001b[0;34m(\u001b[0m\u001b[0mbackend\u001b[0m\u001b[0;34m)\u001b[0m\u001b[0;34m\u001b[0m\u001b[0;34m\u001b[0m\u001b[0m\n\u001b[0m\u001b[1;32m   3415\u001b[0m         \u001b[0mpt\u001b[0m\u001b[0;34m.\u001b[0m\u001b[0mconfigure_inline_support\u001b[0m\u001b[0;34m(\u001b[0m\u001b[0mself\u001b[0m\u001b[0;34m,\u001b[0m \u001b[0mbackend\u001b[0m\u001b[0;34m)\u001b[0m\u001b[0;34m\u001b[0m\u001b[0;34m\u001b[0m\u001b[0m\n\u001b[1;32m   3416\u001b[0m \u001b[0;34m\u001b[0m\u001b[0m\n",
            "\u001b[0;32m/usr/local/lib/python3.7/dist-packages/IPython/core/pylabtools.py\u001b[0m in \u001b[0;36mactivate_matplotlib\u001b[0;34m(backend)\u001b[0m\n\u001b[1;32m    312\u001b[0m \u001b[0;34m\u001b[0m\u001b[0m\n\u001b[1;32m    313\u001b[0m     \u001b[0;32mimport\u001b[0m \u001b[0mmatplotlib\u001b[0m\u001b[0;34m.\u001b[0m\u001b[0mpyplot\u001b[0m\u001b[0;34m\u001b[0m\u001b[0;34m\u001b[0m\u001b[0m\n\u001b[0;32m--> 314\u001b[0;31m     \u001b[0mmatplotlib\u001b[0m\u001b[0;34m.\u001b[0m\u001b[0mpyplot\u001b[0m\u001b[0;34m.\u001b[0m\u001b[0mswitch_backend\u001b[0m\u001b[0;34m(\u001b[0m\u001b[0mbackend\u001b[0m\u001b[0;34m)\u001b[0m\u001b[0;34m\u001b[0m\u001b[0;34m\u001b[0m\u001b[0m\n\u001b[0m\u001b[1;32m    315\u001b[0m \u001b[0;34m\u001b[0m\u001b[0m\n\u001b[1;32m    316\u001b[0m     \u001b[0;31m# This must be imported last in the matplotlib series, after\u001b[0m\u001b[0;34m\u001b[0m\u001b[0;34m\u001b[0m\u001b[0;34m\u001b[0m\u001b[0m\n",
            "\u001b[0;32m/usr/local/lib/python3.7/dist-packages/matplotlib/pyplot.py\u001b[0m in \u001b[0;36mswitch_backend\u001b[0;34m(newbackend)\u001b[0m\n\u001b[1;32m    235\u001b[0m                 \u001b[0;34m\"Cannot load backend {!r} which requires the {!r} interactive \"\u001b[0m\u001b[0;34m\u001b[0m\u001b[0;34m\u001b[0m\u001b[0m\n\u001b[1;32m    236\u001b[0m                 \"framework, as {!r} is currently running\".format(\n\u001b[0;32m--> 237\u001b[0;31m                     newbackend, required_framework, current_framework))\n\u001b[0m\u001b[1;32m    238\u001b[0m \u001b[0;34m\u001b[0m\u001b[0m\n\u001b[1;32m    239\u001b[0m     \u001b[0mrcParams\u001b[0m\u001b[0;34m[\u001b[0m\u001b[0;34m'backend'\u001b[0m\u001b[0;34m]\u001b[0m \u001b[0;34m=\u001b[0m \u001b[0mrcParamsDefault\u001b[0m\u001b[0;34m[\u001b[0m\u001b[0;34m'backend'\u001b[0m\u001b[0;34m]\u001b[0m \u001b[0;34m=\u001b[0m \u001b[0mnewbackend\u001b[0m\u001b[0;34m\u001b[0m\u001b[0;34m\u001b[0m\u001b[0m\n",
            "\u001b[0;31mImportError\u001b[0m: Cannot load backend 'TkAgg' which requires the 'tk' interactive framework, as 'headless' is currently running",
            "",
            "\u001b[0;31m---------------------------------------------------------------------------\u001b[0;32m\nNOTE: If your import is failing due to a missing package, you can\nmanually install dependencies using either !pip or !apt.\n\nTo view examples of installing some common dependencies, click the\n\"Open Examples\" button below.\n\u001b[0;31m---------------------------------------------------------------------------\u001b[0m\n"
          ],
          "errorDetails": {
            "actions": [
              {
                "action": "open_url",
                "actionText": "Open Examples",
                "url": "/notebooks/snippets/importing_libraries.ipynb"
              }
            ]
          }
        }
      ],
      "source": [
        "%matplotlib tk"
      ]
    },
    {
      "cell_type": "markdown",
      "id": "5b33f23f",
      "metadata": {
        "id": "5b33f23f"
      },
      "source": [
        "# Loading the dataset"
      ]
    },
    {
      "cell_type": "code",
      "source": [
        "from google.colab import drive\n",
        "drive.mount('/content/drive')"
      ],
      "metadata": {
        "colab": {
          "base_uri": "https://localhost:8080/"
        },
        "id": "sOiJtgUHa2Vl",
        "outputId": "b3f7100d-81a1-425e-ecdb-76a4da0d3715"
      },
      "id": "sOiJtgUHa2Vl",
      "execution_count": null,
      "outputs": [
        {
          "output_type": "stream",
          "name": "stdout",
          "text": [
            "Mounted at /content/drive\n"
          ]
        }
      ]
    },
    {
      "cell_type": "code",
      "execution_count": null,
      "id": "9e7ec4d3",
      "metadata": {
        "id": "9e7ec4d3"
      },
      "outputs": [],
      "source": [
        "data=mat73.loadmat('/content/drive/MyDrive/holo_dataset_256_73.mat')"
      ]
    },
    {
      "cell_type": "markdown",
      "id": "986ad7ea",
      "metadata": {
        "id": "986ad7ea"
      },
      "source": [
        "# Returns the dictionary for the dataset (variables present in the dataset)"
      ]
    },
    {
      "cell_type": "code",
      "execution_count": null,
      "id": "77e05101",
      "metadata": {
        "colab": {
          "base_uri": "https://localhost:8080/"
        },
        "id": "77e05101",
        "outputId": "ac8f6f6a-ddb1-4d31-bf04-a097609e5ab5"
      },
      "outputs": [
        {
          "output_type": "execute_result",
          "data": {
            "text/plain": [
              "dict_keys(['holo', 'lambda', 'nm', 'np', 'pix_size', 'r', 'x_data', 'y_data', 'z_data'])"
            ]
          },
          "metadata": {},
          "execution_count": 6
        }
      ],
      "source": [
        "data.keys()"
      ]
    },
    {
      "cell_type": "markdown",
      "id": "ecc62091",
      "metadata": {
        "id": "ecc62091"
      },
      "source": [
        "# Creating memory for storing the images in 'X_train' and coordinates in 'Y_train'"
      ]
    },
    {
      "cell_type": "code",
      "execution_count": null,
      "id": "3ff79dcd",
      "metadata": {
        "id": "3ff79dcd"
      },
      "outputs": [],
      "source": [
        "l=4000\n",
        "X_train = np.zeros(shape=[l,256, 256,1])\n",
        "Y_train = np.zeros(shape = [l,2])"
      ]
    },
    {
      "cell_type": "code",
      "execution_count": null,
      "id": "c0b8aae1",
      "metadata": {
        "id": "c0b8aae1"
      },
      "outputs": [],
      "source": [
        "k=range(0,4000)"
      ]
    },
    {
      "cell_type": "code",
      "execution_count": null,
      "id": "7509f23d",
      "metadata": {
        "id": "7509f23d"
      },
      "outputs": [],
      "source": [
        "for i in k:\n",
        "    X_train[i,:,:,0]=(data['holo'][:,:,i])\n",
        "    Y_train[i,0],Y_train[i,1]=data['x_data'][i],data['y_data'][i]"
      ]
    },
    {
      "cell_type": "markdown",
      "id": "45746e67",
      "metadata": {
        "id": "45746e67"
      },
      "source": [
        "# Checking if the images are stored correctly"
      ]
    },
    {
      "cell_type": "code",
      "execution_count": null,
      "id": "16d1426a",
      "metadata": {
        "colab": {
          "base_uri": "https://localhost:8080/"
        },
        "id": "16d1426a",
        "outputId": "8f700978-4bf9-43f0-97ba-c1cf16a942a1"
      },
      "outputs": [
        {
          "output_type": "stream",
          "name": "stdout",
          "text": [
            "[[1.00012698 1.00028143 1.00019614 ... 0.99998386 1.0001945  0.99972709]\n",
            " [1.00017283 0.99991247 0.99972864 ... 0.9997558  1.00009893 1.00009358]\n",
            " [0.99972162 0.99979259 1.00003877 ... 1.00020925 0.99972611 1.00020117]\n",
            " ...\n",
            " [0.99987115 1.00014661 1.00029322 ... 1.00014007 0.99973381 1.00026518]\n",
            " [0.99971909 0.9997704  1.00001919 ... 0.99978432 1.00004454 1.00014493]\n",
            " [1.00004669 0.99978613 0.9997122  ... 0.99978321 1.0002824  0.99978622]]\n"
          ]
        }
      ],
      "source": [
        "\n",
        "print(X_train[43,:,:,0])"
      ]
    },
    {
      "cell_type": "code",
      "execution_count": null,
      "id": "5f269435",
      "metadata": {
        "colab": {
          "base_uri": "https://localhost:8080/"
        },
        "id": "5f269435",
        "outputId": "38349534-fb3c-4fc9-ab49-b47d11ef05bc"
      },
      "outputs": [
        {
          "output_type": "stream",
          "name": "stdout",
          "text": [
            "[[174.00726588 212.44570421]\n",
            " [133.04810498  88.80610742]\n",
            " [180.25431511 184.68052833]\n",
            " [ 91.44686185  92.42060195]\n",
            " [201.5524357   93.91829006]]\n"
          ]
        }
      ],
      "source": [
        "print(Y_train[:5,:])"
      ]
    },
    {
      "cell_type": "markdown",
      "id": "6b5724b9",
      "metadata": {
        "id": "6b5724b9"
      },
      "source": [
        "# Check if GPU is allocated"
      ]
    },
    {
      "cell_type": "code",
      "execution_count": null,
      "id": "1bc0f640",
      "metadata": {
        "colab": {
          "base_uri": "https://localhost:8080/"
        },
        "id": "1bc0f640",
        "outputId": "d4343edc-6569-4a92-deb2-5a1e52297536"
      },
      "outputs": [
        {
          "output_type": "stream",
          "name": "stdout",
          "text": [
            "[PhysicalDevice(name='/physical_device:GPU:0', device_type='GPU')]\n"
          ]
        }
      ],
      "source": [
        "print(tf.config.list_physical_devices('GPU'))"
      ]
    },
    {
      "cell_type": "markdown",
      "id": "9b78ae42",
      "metadata": {
        "id": "9b78ae42"
      },
      "source": [
        "# Initializing and creating the model"
      ]
    },
    {
      "cell_type": "code",
      "execution_count": null,
      "id": "785118b3",
      "metadata": {
        "colab": {
          "base_uri": "https://localhost:8080/"
        },
        "id": "785118b3",
        "outputId": "6a3ee2ac-c471-470d-e8fa-285afe5e41d9"
      },
      "outputs": [
        {
          "output_type": "stream",
          "name": "stdout",
          "text": [
            "Model: \"sequential\"\n",
            "_________________________________________________________________\n",
            " Layer (type)                Output Shape              Param #   \n",
            "=================================================================\n",
            " conv2d (Conv2D)             (None, 256, 256, 16)      160       \n",
            "                                                                 \n",
            " batch_normalization (BatchN  (None, 256, 256, 16)     64        \n",
            " ormalization)                                                   \n",
            "                                                                 \n",
            " max_pooling2d (MaxPooling2D  (None, 128, 128, 16)     0         \n",
            " )                                                               \n",
            "                                                                 \n",
            " conv2d_1 (Conv2D)           (None, 63, 63, 32)        4640      \n",
            "                                                                 \n",
            " max_pooling2d_1 (MaxPooling  (None, 31, 31, 32)       0         \n",
            " 2D)                                                             \n",
            "                                                                 \n",
            " batch_normalization_1 (Batc  (None, 31, 31, 32)       128       \n",
            " hNormalization)                                                 \n",
            "                                                                 \n",
            " conv2d_2 (Conv2D)           (None, 15, 15, 16)        4624      \n",
            "                                                                 \n",
            " max_pooling2d_2 (MaxPooling  (None, 7, 7, 16)         0         \n",
            " 2D)                                                             \n",
            "                                                                 \n",
            " batch_normalization_2 (Batc  (None, 7, 7, 16)         64        \n",
            " hNormalization)                                                 \n",
            "                                                                 \n",
            " flatten (Flatten)           (None, 784)               0         \n",
            "                                                                 \n",
            " dense (Dense)               (None, 8)                 6280      \n",
            "                                                                 \n",
            " flatten_1 (Flatten)         (None, 8)                 0         \n",
            "                                                                 \n",
            " dense_1 (Dense)             (None, 2)                 18        \n",
            "                                                                 \n",
            "=================================================================\n",
            "Total params: 15,978\n",
            "Trainable params: 15,850\n",
            "Non-trainable params: 128\n",
            "_________________________________________________________________\n"
          ]
        }
      ],
      "source": [
        "model=Sequential()\n",
        "img_input = layers.Input(shape=(256, 256,1))\n",
        "model.add(layers.Conv2D(16, 3, activation='relu', strides = 1, padding = 'same',input_shape=(256,256,1)))\n",
        "model.add(BatchNormalization(axis=-1))\n",
        "model.add(layers.MaxPool2D(pool_size=2))\n",
        "model.add(layers.Conv2D(32, 3, activation='relu', strides = 2))\n",
        "model.add(layers.MaxPool2D(pool_size=2))\n",
        "model.add(BatchNormalization(axis=-1))\n",
        "model.add(layers.Conv2D(16, 3, activation='swish', strides = 2))\n",
        "model.add(layers.MaxPool2D(pool_size=2))\n",
        "model.add(BatchNormalization(axis=-1))\n",
        "model.add(layers.Flatten())\n",
        "model.add(layers.Dense(8, activation='swish'))\n",
        "model.add(layers.Flatten())\n",
        "model.add(layers.Dense(2, activation='relu'))\n",
        "model.build(img_input)\n",
        "model.summary()"
      ]
    },
    {
      "cell_type": "markdown",
      "id": "172d6b2a",
      "metadata": {
        "id": "172d6b2a"
      },
      "source": [
        "# Compiling the model"
      ]
    },
    {
      "cell_type": "code",
      "execution_count": null,
      "id": "333f97f1",
      "metadata": {
        "id": "333f97f1"
      },
      "outputs": [],
      "source": [
        "model.compile(loss='mean_squared_error', optimizer='adam', metrics=['mse']);"
      ]
    },
    {
      "cell_type": "markdown",
      "id": "c9e3270e",
      "metadata": {
        "id": "c9e3270e"
      },
      "source": [
        "# EarlyStopping Callback to stop at a certain epoch"
      ]
    },
    {
      "cell_type": "code",
      "execution_count": null,
      "id": "2617cff8",
      "metadata": {
        "id": "2617cff8"
      },
      "outputs": [],
      "source": [
        "callback = EarlyStopping(monitor='loss',patience=5)"
      ]
    },
    {
      "cell_type": "markdown",
      "id": "bca81e7d",
      "metadata": {
        "id": "bca81e7d"
      },
      "source": [
        "# Fitting/Training the model designed"
      ]
    },
    {
      "cell_type": "code",
      "execution_count": null,
      "id": "3059d590",
      "metadata": {
        "scrolled": true,
        "colab": {
          "base_uri": "https://localhost:8080/"
        },
        "id": "3059d590",
        "outputId": "bd20ba31-072e-4616-f707-70f39d5ca7e4"
      },
      "outputs": [
        {
          "output_type": "stream",
          "name": "stdout",
          "text": [
            "Epoch 1/50\n",
            "200/200 [==============================] - 16s 22ms/step - loss: 7868.2236 - mse: 7868.2236 - val_loss: 6494.9146 - val_mse: 6494.9146\n",
            "Epoch 2/50\n",
            "200/200 [==============================] - 3s 17ms/step - loss: 151.1113 - mse: 151.1113 - val_loss: 22045.8477 - val_mse: 22045.8477\n",
            "Epoch 3/50\n",
            "200/200 [==============================] - 3s 17ms/step - loss: 73.4912 - mse: 73.4912 - val_loss: 20288.6367 - val_mse: 20288.6367\n",
            "Epoch 4/50\n",
            "200/200 [==============================] - 3s 17ms/step - loss: 53.5621 - mse: 53.5621 - val_loss: 18270.2949 - val_mse: 18270.2949\n",
            "Epoch 5/50\n",
            "200/200 [==============================] - 3s 17ms/step - loss: 36.1686 - mse: 36.1686 - val_loss: 22000.1855 - val_mse: 22000.1855\n",
            "Epoch 6/50\n",
            "200/200 [==============================] - 3s 17ms/step - loss: 27.4278 - mse: 27.4278 - val_loss: 19164.7734 - val_mse: 19164.7734\n",
            "Epoch 7/50\n",
            "200/200 [==============================] - 3s 17ms/step - loss: 21.5212 - mse: 21.5212 - val_loss: 2712.9419 - val_mse: 2712.9419\n",
            "Epoch 8/50\n",
            "200/200 [==============================] - 3s 17ms/step - loss: 18.0085 - mse: 18.0085 - val_loss: 12337.9473 - val_mse: 12337.9473\n",
            "Epoch 9/50\n",
            "200/200 [==============================] - 3s 17ms/step - loss: 12.2761 - mse: 12.2761 - val_loss: 392643.4062 - val_mse: 392643.4062\n",
            "Epoch 10/50\n",
            "200/200 [==============================] - 3s 17ms/step - loss: 9.7873 - mse: 9.7873 - val_loss: 449385.2812 - val_mse: 449385.2812\n",
            "Epoch 11/50\n",
            "200/200 [==============================] - 3s 17ms/step - loss: 7.7211 - mse: 7.7211 - val_loss: 565290.2500 - val_mse: 565290.2500\n",
            "Epoch 12/50\n",
            "200/200 [==============================] - 3s 17ms/step - loss: 6.4921 - mse: 6.4921 - val_loss: 22045.8477 - val_mse: 22045.8477\n",
            "Epoch 13/50\n",
            "200/200 [==============================] - 3s 17ms/step - loss: 5.6870 - mse: 5.6870 - val_loss: 654468.3750 - val_mse: 654468.3750\n",
            "Epoch 14/50\n",
            "200/200 [==============================] - 3s 17ms/step - loss: 4.1418 - mse: 4.1418 - val_loss: 737974.0625 - val_mse: 737974.0625\n",
            "Epoch 15/50\n",
            "200/200 [==============================] - 3s 17ms/step - loss: 3.9787 - mse: 3.9787 - val_loss: 21913.4609 - val_mse: 21913.4609\n",
            "Epoch 16/50\n",
            "200/200 [==============================] - 3s 17ms/step - loss: 3.1572 - mse: 3.1572 - val_loss: 19055.7949 - val_mse: 19055.7949\n",
            "Epoch 17/50\n",
            "200/200 [==============================] - 3s 17ms/step - loss: 3.3820 - mse: 3.3820 - val_loss: 19358.6738 - val_mse: 19358.6738\n",
            "Epoch 18/50\n",
            "200/200 [==============================] - 3s 17ms/step - loss: 2.7440 - mse: 2.7440 - val_loss: 382610.2812 - val_mse: 382610.2812\n",
            "Epoch 19/50\n",
            "200/200 [==============================] - 3s 17ms/step - loss: 2.4568 - mse: 2.4568 - val_loss: 256022.1875 - val_mse: 256022.1875\n",
            "Epoch 20/50\n",
            "200/200 [==============================] - 3s 17ms/step - loss: 2.2455 - mse: 2.2455 - val_loss: 69006.8984 - val_mse: 69006.8984\n",
            "Epoch 21/50\n",
            "200/200 [==============================] - 3s 17ms/step - loss: 2.1488 - mse: 2.1488 - val_loss: 23061.6348 - val_mse: 23061.6348\n",
            "Epoch 22/50\n",
            "200/200 [==============================] - 3s 17ms/step - loss: 1.9223 - mse: 1.9223 - val_loss: 21289.0547 - val_mse: 21289.0547\n",
            "Epoch 23/50\n",
            "200/200 [==============================] - 3s 17ms/step - loss: 1.6279 - mse: 1.6279 - val_loss: 22045.8477 - val_mse: 22045.8477\n",
            "Epoch 24/50\n",
            "200/200 [==============================] - 3s 17ms/step - loss: 1.7506 - mse: 1.7506 - val_loss: 24225.6055 - val_mse: 24225.6055\n",
            "Epoch 25/50\n",
            "200/200 [==============================] - 4s 18ms/step - loss: 1.5812 - mse: 1.5812 - val_loss: 14576.0898 - val_mse: 14576.0898\n",
            "Epoch 26/50\n",
            "200/200 [==============================] - 3s 17ms/step - loss: 1.5273 - mse: 1.5273 - val_loss: 19793.2793 - val_mse: 19793.2793\n",
            "Epoch 27/50\n",
            "200/200 [==============================] - 3s 17ms/step - loss: 1.4579 - mse: 1.4579 - val_loss: 21560.9121 - val_mse: 21560.9121\n",
            "Epoch 28/50\n",
            "200/200 [==============================] - 3s 17ms/step - loss: 1.2645 - mse: 1.2645 - val_loss: 18069.7129 - val_mse: 18069.7129\n",
            "Epoch 29/50\n",
            "200/200 [==============================] - 3s 17ms/step - loss: 1.3300 - mse: 1.3300 - val_loss: 20992.1055 - val_mse: 20992.1055\n",
            "Epoch 30/50\n",
            "200/200 [==============================] - 3s 17ms/step - loss: 1.2229 - mse: 1.2229 - val_loss: 17661.6211 - val_mse: 17661.6211\n",
            "Epoch 31/50\n",
            "200/200 [==============================] - 3s 17ms/step - loss: 1.0039 - mse: 1.0039 - val_loss: 21276.5000 - val_mse: 21276.5000\n",
            "Epoch 32/50\n",
            "200/200 [==============================] - 4s 18ms/step - loss: 1.0132 - mse: 1.0132 - val_loss: 21362.7520 - val_mse: 21362.7520\n",
            "Epoch 33/50\n",
            "200/200 [==============================] - 3s 17ms/step - loss: 1.1124 - mse: 1.1124 - val_loss: 20120.1621 - val_mse: 20120.1621\n",
            "Epoch 34/50\n",
            "200/200 [==============================] - 3s 17ms/step - loss: 1.2542 - mse: 1.2542 - val_loss: 22045.8477 - val_mse: 22045.8477\n",
            "Epoch 35/50\n",
            "200/200 [==============================] - 3s 17ms/step - loss: 1.0478 - mse: 1.0478 - val_loss: 19098.0625 - val_mse: 19098.0625\n",
            "Epoch 36/50\n",
            "200/200 [==============================] - 3s 17ms/step - loss: 1.1352 - mse: 1.1352 - val_loss: 22045.8477 - val_mse: 22045.8477\n"
          ]
        }
      ],
      "source": [
        "training=model.fit(X_train,Y_train, epochs = 50,verbose=1,batch_size=16,validation_split=0.2,callbacks=[callback])"
      ]
    },
    {
      "cell_type": "code",
      "execution_count": null,
      "id": "a7bc2497",
      "metadata": {
        "colab": {
          "base_uri": "https://localhost:8080/"
        },
        "id": "a7bc2497",
        "outputId": "79b538da-d6df-4fc1-8de5-a317ca223ee6"
      },
      "outputs": [
        {
          "output_type": "execute_result",
          "data": {
            "text/plain": [
              "array([[ 0.      , 24.780722]], dtype=float32)"
            ]
          },
          "metadata": {},
          "execution_count": 13
        }
      ],
      "source": [
        "\n",
        "model.predict(data['holo'][:,:,5080].reshape(1,256,256,1))\n"
      ]
    },
    {
      "cell_type": "code",
      "execution_count": null,
      "id": "f33f1351",
      "metadata": {
        "id": "f33f1351"
      },
      "outputs": [],
      "source": [
        "data['x_data'][5001]"
      ]
    },
    {
      "cell_type": "code",
      "execution_count": null,
      "id": "2ea8be0e",
      "metadata": {
        "id": "2ea8be0e"
      },
      "outputs": [],
      "source": [
        "data['y_data'][5080]"
      ]
    },
    {
      "cell_type": "code",
      "execution_count": null,
      "id": "2af019b6",
      "metadata": {
        "colab": {
          "base_uri": "https://localhost:8080/",
          "height": 276
        },
        "id": "2af019b6",
        "outputId": "0cdfae6c-d34c-4b68-9915-9d59fb3d6d66"
      },
      "outputs": [
        {
          "output_type": "display_data",
          "data": {
            "text/plain": [
              "<Figure size 432x288 with 1 Axes>"
            ],
            "image/png": "[encoded data removed]"
          },
          "metadata": {
            "needs_background": "light"
          }
        }
      ],
      "source": [
        "history = training.history\n",
        "\n",
        "plt.plot(history['loss'])\n",
        "\n",
        "plt.plot(history['val_loss'])\n",
        "\n",
        "plt.show()"
      ]
    },
    {
      "cell_type": "code",
      "execution_count": null,
      "id": "1e60773a",
      "metadata": {
        "id": "1e60773a"
      },
      "outputs": [],
      "source": [
        "model.save('C:/Users/gmans/mynn')"
      ]
    },
    {
      "cell_type": "code",
      "execution_count": null,
      "id": "d0ff9dbc",
      "metadata": {
        "id": "d0ff9dbc"
      },
      "outputs": [],
      "source": [
        "import os;\n",
        "print(os.getcwd())"
      ]
    },
    {
      "cell_type": "code",
      "execution_count": null,
      "id": "b50a8aca",
      "metadata": {
        "id": "b50a8aca"
      },
      "outputs": [],
      "source": [
        "new_model = tf.keras.models.load_model('C:/Users/gmans/mynn')"
      ]
    },
    {
      "cell_type": "code",
      "execution_count": null,
      "id": "f65ed74e",
      "metadata": {
        "id": "f65ed74e"
      },
      "outputs": [],
      "source": [
        "new_model.summary()"
      ]
    },
    {
      "cell_type": "code",
      "execution_count": null,
      "id": "3230fcd5",
      "metadata": {
        "id": "3230fcd5"
      },
      "outputs": [],
      "source": [
        "new_model.predict(data['holo'][:,:,5000].reshape(1,256,256,1))"
      ]
    },
    {
      "cell_type": "code",
      "execution_count": null,
      "id": "325eca1b",
      "metadata": {
        "id": "325eca1b"
      },
      "outputs": [],
      "source": [
        "model.save_weights(\"weights.h5\")"
      ]
    },
    {
      "cell_type": "code",
      "execution_count": null,
      "id": "82386185",
      "metadata": {
        "id": "82386185"
      },
      "outputs": [],
      "source": [
        "new_model.load_weights('weights.h5')"
      ]
    },
    {
      "cell_type": "code",
      "execution_count": null,
      "id": "9d246c09",
      "metadata": {
        "id": "9d246c09"
      },
      "outputs": [],
      "source": [
        "model.history.history"
      ]
    },
    {
      "cell_type": "code",
      "execution_count": null,
      "id": "b95be79c",
      "metadata": {
        "id": "b95be79c"
      },
      "outputs": [],
      "source": []
    }
  ],
  "metadata": {
    "kernelspec": {
      "display_name": "Python 3 (ipykernel)",
      "language": "python",
      "name": "python3"
    },
    "language_info": {
      "codemirror_mode": {
        "name": "ipython",
        "version": 3
      },
      "file_extension": ".py",
      "mimetype": "text/x-python",
      "name": "python",
      "nbconvert_exporter": "python",
      "pygments_lexer": "ipython3",
      "version": "3.9.12"
    },
    "colab": {
      "provenance": []
    },
    "accelerator": "GPU"
  },
  "nbformat": 4,
  "nbformat_minor": 5
}