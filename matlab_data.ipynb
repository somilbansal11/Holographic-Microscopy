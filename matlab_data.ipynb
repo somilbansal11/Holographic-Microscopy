{
  "cells": [
    {
      "cell_type": "markdown",
      "metadata": {
        "id": "view-in-github",
        "colab_type": "text"
      },
      "source": [
        "<a href=\"https://colab.research.google.com/github/somilbansal11/Holographic-Microscopy/blob/main/matlab_data.ipynb\" target=\"_parent\"><img src=\"https://colab.research.google.com/assets/colab-badge.svg\" alt=\"Open In Colab\"/></a>"
      ]
    },
    {
      "cell_type": "code",
      "execution_count": 4,
      "id": "69db79ba",
      "metadata": {
        "id": "69db79ba"
      },
      "outputs": [],
      "source": [
        "import mat73\n",
        "data=mat73.loadmat('/content/drive/MyDrive/holo_dataset_256_73.mat')"
      ]
    },
    {
      "cell_type": "code",
      "source": [
        "device_name = tf.test.gpu_device_name()\n",
        "if device_name != '/device:GPU:0':\n",
        "  raise SystemError('GPU device not found')\n",
        "print('Found GPU at: {}'.format(device_name))"
      ],
      "metadata": {
        "colab": {
          "base_uri": "https://localhost:8080/"
        },
        "id": "HWWJEm8C9mSD",
        "outputId": "3b1e2159-af10-47a6-8b25-a32f68410d1c"
      },
      "id": "HWWJEm8C9mSD",
      "execution_count": null,
      "outputs": [
        {
          "output_type": "stream",
          "name": "stdout",
          "text": [
            "Found GPU at: /device:GPU:0\n"
          ]
        }
      ]
    },
    {
      "cell_type": "code",
      "source": [
        "from google.colab import drive\n",
        "drive.mount('/content/drive')"
      ],
      "metadata": {
        "colab": {
          "base_uri": "https://localhost:8080/"
        },
        "id": "swm-G-G9tzUK",
        "outputId": "4be3ad3f-2aea-4cb9-f2b3-ec9419c3be66"
      },
      "id": "swm-G-G9tzUK",
      "execution_count": 2,
      "outputs": [
        {
          "output_type": "stream",
          "name": "stdout",
          "text": [
            "Drive already mounted at /content/drive; to attempt to forcibly remount, call drive.mount(\"/content/drive\", force_remount=True).\n"
          ]
        }
      ]
    },
    {
      "cell_type": "code",
      "execution_count": 3,
      "id": "b85ec2f7",
      "metadata": {
        "colab": {
          "base_uri": "https://localhost:8080/"
        },
        "id": "b85ec2f7",
        "outputId": "d983937c-6834-4e40-8099-2091e54a66af"
      },
      "outputs": [
        {
          "output_type": "stream",
          "name": "stdout",
          "text": [
            "Looking in indexes: https://pypi.org/simple, https://us-python.pkg.dev/colab-wheels/public/simple/\n",
            "Requirement already satisfied: mat73 in /usr/local/lib/python3.8/dist-packages (0.60)\n",
            "Requirement already satisfied: numpy in /usr/local/lib/python3.8/dist-packages (from mat73) (1.21.6)\n",
            "Requirement already satisfied: h5py in /usr/local/lib/python3.8/dist-packages (from mat73) (3.1.0)\n"
          ]
        }
      ],
      "source": [
        "pip install mat73"
      ]
    },
    {
      "cell_type": "code",
      "execution_count": 5,
      "id": "9e7ec4d3",
      "metadata": {
        "id": "9e7ec4d3"
      },
      "outputs": [],
      "source": [
        "import numpy as np"
      ]
    },
    {
      "cell_type": "code",
      "source": [
        "print(data)"
      ],
      "metadata": {
        "colab": {
          "base_uri": "https://localhost:8080/"
        },
        "id": "bAYNoDajodx1",
        "outputId": "c821976d-5ecf-4a99-bfe9-8964f8e31eb0"
      },
      "id": "bAYNoDajodx1",
      "execution_count": 20,
      "outputs": [
        {
          "output_type": "stream",
          "name": "stdout",
          "text": [
            "{'holo': array([[[0.99975402, 0.99986789, 0.9997783 , ..., 0.99969221,\n",
            "         1.00007804, 0.99975118],\n",
            "        [1.00023457, 0.99975134, 1.00016681, ..., 1.00010557,\n",
            "         1.00012646, 0.99978098],\n",
            "        [1.00000252, 1.00009022, 1.00012196, ..., 1.0002577 ,\n",
            "         0.99973897, 1.00011181],\n",
            "        ...,\n",
            "        [0.99980031, 0.9997618 , 1.00022352, ..., 0.99979692,\n",
            "         1.00021191, 1.00023714],\n",
            "        [0.99976572, 1.0001593 , 1.0000035 , ..., 1.00027927,\n",
            "         0.99994819, 0.99998355],\n",
            "        [1.00010675, 1.00019637, 0.99977843, ..., 1.0000475 ,\n",
            "         0.99973323, 0.99978512]],\n",
            "\n",
            "       [[1.00027463, 0.9997275 , 1.00017501, ..., 0.99997352,\n",
            "         1.00018295, 0.99995144],\n",
            "        [0.99987373, 0.9999593 , 1.00010945, ..., 1.00030523,\n",
            "         0.99972652, 1.00025855],\n",
            "        [0.99985538, 1.00026557, 0.99975811, ..., 0.99987758,\n",
            "         1.00020828, 1.00020888],\n",
            "        ...,\n",
            "        [1.00027121, 0.99976002, 1.00002009, ..., 0.99973399,\n",
            "         1.00003739, 0.99977315],\n",
            "        [1.00012838, 0.99990302, 1.00023052, ..., 0.99992023,\n",
            "         1.00026028, 1.00027183],\n",
            "        [0.9997793 , 1.00026468, 1.00018805, ..., 1.00030899,\n",
            "         1.00022978, 0.99989941]],\n",
            "\n",
            "       [[0.99977835, 0.99983229, 1.00010183, ..., 1.00029748,\n",
            "         0.99973077, 1.00028573],\n",
            "        [0.99997776, 1.0002022 , 0.99975644, ..., 1.00000857,\n",
            "         1.00015743, 1.00003333],\n",
            "        [1.00024705, 1.00020158, 1.0000452 , ..., 0.99969709,\n",
            "         1.00004629, 0.99973609],\n",
            "        ...,\n",
            "        [0.99972785, 0.99997217, 0.99976051, ..., 1.00010326,\n",
            "         0.9997441 , 0.99991347],\n",
            "        [1.00001458, 0.99973509, 0.99982808, ..., 0.99969127,\n",
            "         0.9997616 , 0.99983466],\n",
            "        [1.00027857, 1.00009673, 1.00008561, ..., 1.00006865,\n",
            "         1.00001303, 1.00028352]],\n",
            "\n",
            "       ...,\n",
            "\n",
            "       [[1.0002978 , 0.99975166, 1.00010164, ..., 1.00029254,\n",
            "         0.9997719 , 0.99972462],\n",
            "        [0.99987503, 1.0000424 , 1.00018809, ..., 0.99990297,\n",
            "         1.00028617, 1.00002504],\n",
            "        [0.99984248, 1.00025736, 0.99977628, ..., 0.99974894,\n",
            "         0.99980711, 1.00028954],\n",
            "        ...,\n",
            "        [0.99969579, 0.99991459, 0.99982134, ..., 1.00019902,\n",
            "         1.00026649, 1.00021021],\n",
            "        [1.00000887, 0.99976773, 1.00009046, ..., 0.99974115,\n",
            "         1.0002501 , 1.00003103],\n",
            "        [1.00030762, 1.00013283, 1.00025919, ..., 0.99993253,\n",
            "         0.99998239, 0.99975443]],\n",
            "\n",
            "       [[1.00014043, 1.0000818 , 0.99984699, ..., 0.99984182,\n",
            "         0.99976665, 0.99988691],\n",
            "        [1.00013884, 0.99976566, 1.00024334, ..., 1.00027713,\n",
            "         1.0000606 , 0.99970404],\n",
            "        [0.99969902, 0.99986737, 0.99999647, ..., 1.00003756,\n",
            "         1.00014707, 0.9999331 ],\n",
            "        ...,\n",
            "        [0.99986185, 0.99984589, 1.00007877, ..., 0.99970679,\n",
            "         1.00019995, 1.00020489],\n",
            "        [1.00025042, 1.00021841, 1.00025725, ..., 1.00005309,\n",
            "         0.99991051, 0.99971337],\n",
            "        [1.0002192 , 1.00010932, 1.00014711, ..., 1.00026524,\n",
            "         0.99970878, 1.00014586]],\n",
            "\n",
            "       [[0.99987309, 1.00015444, 0.99974716, ..., 0.99990984,\n",
            "         1.00009461, 1.00027553],\n",
            "        [1.00029816, 1.00022045, 1.00005029, ..., 0.99974788,\n",
            "         0.99974783, 0.99997648],\n",
            "        [0.99978662, 0.99989377, 1.00022157, ..., 1.00020066,\n",
            "         1.00027785, 0.99971127],\n",
            "        ...,\n",
            "        [1.00013881, 1.00025566, 1.00025564, ..., 1.00017145,\n",
            "         0.99983711, 0.99979865],\n",
            "        [1.00029653, 0.99998785, 1.00015708, ..., 1.000189  ,\n",
            "         0.99970261, 0.99995678],\n",
            "        [0.99995675, 0.99974732, 0.99988122, ..., 0.99973436,\n",
            "         0.99986567, 1.00025172]]]), 'lambda': array(0.66), 'nm': array(1.), 'np': array(1.25), 'pix_size': array(1.12), 'r': array(0.2), 'x_data': array([174.00726588, 133.04810498, 180.25431511, ..., 141.39017487,\n",
            "       199.58916055, 102.57540606]), 'y_data': array([212.44570421,  88.80610742, 184.68052833, ..., 107.8825852 ,\n",
            "       178.53476397, 157.99856392]), 'z_data': array([825.57020364, 932.84419928, 984.62181654, ..., 804.0690239 ,\n",
            "       853.40475602, 841.74847204])}\n"
          ]
        }
      ]
    },
    {
      "cell_type": "code",
      "execution_count": 6,
      "id": "3ff79dcd",
      "metadata": {
        "id": "3ff79dcd"
      },
      "outputs": [],
      "source": [
        "l=4000\n",
        "X_train = np.zeros(shape=[l,256, 256,1])\n",
        "Y_train = np.zeros(shape = [l,3])"
      ]
    },
    {
      "cell_type": "code",
      "execution_count": 7,
      "id": "74ee83cf",
      "metadata": {
        "id": "74ee83cf"
      },
      "outputs": [],
      "source": [
        "o=2000"
      ]
    },
    {
      "cell_type": "code",
      "execution_count": 8,
      "id": "e9bb81b2",
      "metadata": {
        "id": "e9bb81b2"
      },
      "outputs": [],
      "source": [
        "X_test = np.zeros(shape=[o,256, 256,1])\n",
        "Y_test = np.zeros(shape = [o,3])"
      ]
    },
    {
      "cell_type": "code",
      "source": [
        "print(Y_test)"
      ],
      "metadata": {
        "colab": {
          "base_uri": "https://localhost:8080/"
        },
        "id": "tFd7qyH_oMM7",
        "outputId": "9d74a24a-a1df-43c2-862d-bdddf8d9091f"
      },
      "id": "tFd7qyH_oMM7",
      "execution_count": 9,
      "outputs": [
        {
          "output_type": "stream",
          "name": "stdout",
          "text": [
            "[[0. 0. 0.]\n",
            " [0. 0. 0.]\n",
            " [0. 0. 0.]\n",
            " ...\n",
            " [0. 0. 0.]\n",
            " [0. 0. 0.]\n",
            " [0. 0. 0.]]\n"
          ]
        }
      ]
    },
    {
      "cell_type": "code",
      "execution_count": 10,
      "id": "c0b8aae1",
      "metadata": {
        "id": "c0b8aae1"
      },
      "outputs": [],
      "source": [
        "k=range(0,4000)"
      ]
    },
    {
      "cell_type": "code",
      "execution_count": 11,
      "id": "199477c1",
      "metadata": {
        "id": "199477c1"
      },
      "outputs": [],
      "source": [
        "m=range(0,2000)"
      ]
    },
    {
      "cell_type": "code",
      "source": [
        "data['x_data']"
      ],
      "metadata": {
        "colab": {
          "base_uri": "https://localhost:8080/"
        },
        "id": "l9JjU6GZPkXg",
        "outputId": "396140ae-267f-46a5-cab6-4d7d0f242b12"
      },
      "id": "l9JjU6GZPkXg",
      "execution_count": 18,
      "outputs": [
        {
          "output_type": "execute_result",
          "data": {
            "text/plain": [
              "array([174.00726588, 133.04810498, 180.25431511, ..., 141.39017487,\n",
              "       199.58916055, 102.57540606])"
            ]
          },
          "metadata": {},
          "execution_count": 18
        }
      ]
    },
    {
      "cell_type": "code",
      "execution_count": 12,
      "id": "7509f23d",
      "metadata": {
        "id": "7509f23d"
      },
      "outputs": [],
      "source": [
        "for i in k:\n",
        "    X_train[i,:,:,0]=(data['holo'][:,:,i])\n",
        "    Y_train[i,0],Y_train[i,1],Y_train[i,2]=data['x_data'][i],data['y_data'][i],data['z_data'][i]"
      ]
    },
    {
      "cell_type": "code",
      "source": [
        "print(X_train)"
      ],
      "metadata": {
        "colab": {
          "base_uri": "https://localhost:8080/"
        },
        "id": "oTyyAgJvOz8R",
        "outputId": "e1610b8a-2c84-4f57-c43f-ccec379d21d5"
      },
      "id": "oTyyAgJvOz8R",
      "execution_count": 13,
      "outputs": [
        {
          "output_type": "stream",
          "name": "stdout",
          "text": [
            "[[[[0.99975402]\n",
            "   [1.00023457]\n",
            "   [1.00000252]\n",
            "   ...\n",
            "   [0.99980031]\n",
            "   [0.99976572]\n",
            "   [1.00010675]]\n",
            "\n",
            "  [[1.00027463]\n",
            "   [0.99987373]\n",
            "   [0.99985538]\n",
            "   ...\n",
            "   [1.00027121]\n",
            "   [1.00012838]\n",
            "   [0.9997793 ]]\n",
            "\n",
            "  [[0.99977835]\n",
            "   [0.99997776]\n",
            "   [1.00024705]\n",
            "   ...\n",
            "   [0.99972785]\n",
            "   [1.00001458]\n",
            "   [1.00027857]]\n",
            "\n",
            "  ...\n",
            "\n",
            "  [[1.0002978 ]\n",
            "   [0.99987503]\n",
            "   [0.99984248]\n",
            "   ...\n",
            "   [0.99969579]\n",
            "   [1.00000887]\n",
            "   [1.00030762]]\n",
            "\n",
            "  [[1.00014043]\n",
            "   [1.00013884]\n",
            "   [0.99969902]\n",
            "   ...\n",
            "   [0.99986185]\n",
            "   [1.00025042]\n",
            "   [1.0002192 ]]\n",
            "\n",
            "  [[0.99987309]\n",
            "   [1.00029816]\n",
            "   [0.99978662]\n",
            "   ...\n",
            "   [1.00013881]\n",
            "   [1.00029653]\n",
            "   [0.99995675]]]\n",
            "\n",
            "\n",
            " [[[0.99986789]\n",
            "   [0.99975134]\n",
            "   [1.00009022]\n",
            "   ...\n",
            "   [0.9997618 ]\n",
            "   [1.0001593 ]\n",
            "   [1.00019637]]\n",
            "\n",
            "  [[0.9997275 ]\n",
            "   [0.9999593 ]\n",
            "   [1.00026557]\n",
            "   ...\n",
            "   [0.99976002]\n",
            "   [0.99990302]\n",
            "   [1.00026468]]\n",
            "\n",
            "  [[0.99983229]\n",
            "   [1.0002022 ]\n",
            "   [1.00020158]\n",
            "   ...\n",
            "   [0.99997217]\n",
            "   [0.99973509]\n",
            "   [1.00009673]]\n",
            "\n",
            "  ...\n",
            "\n",
            "  [[0.99975166]\n",
            "   [1.0000424 ]\n",
            "   [1.00025736]\n",
            "   ...\n",
            "   [0.99991459]\n",
            "   [0.99976773]\n",
            "   [1.00013283]]\n",
            "\n",
            "  [[1.0000818 ]\n",
            "   [0.99976566]\n",
            "   [0.99986737]\n",
            "   ...\n",
            "   [0.99984589]\n",
            "   [1.00021841]\n",
            "   [1.00010932]]\n",
            "\n",
            "  [[1.00015444]\n",
            "   [1.00022045]\n",
            "   [0.99989377]\n",
            "   ...\n",
            "   [1.00025566]\n",
            "   [0.99998785]\n",
            "   [0.99974732]]]\n",
            "\n",
            "\n",
            " [[[0.9997783 ]\n",
            "   [1.00016681]\n",
            "   [1.00012196]\n",
            "   ...\n",
            "   [1.00022352]\n",
            "   [1.0000035 ]\n",
            "   [0.99977843]]\n",
            "\n",
            "  [[1.00017501]\n",
            "   [1.00010945]\n",
            "   [0.99975811]\n",
            "   ...\n",
            "   [1.00002009]\n",
            "   [1.00023052]\n",
            "   [1.00018805]]\n",
            "\n",
            "  [[1.00010183]\n",
            "   [0.99975644]\n",
            "   [1.0000452 ]\n",
            "   ...\n",
            "   [0.99976051]\n",
            "   [0.99982808]\n",
            "   [1.00008561]]\n",
            "\n",
            "  ...\n",
            "\n",
            "  [[1.00010164]\n",
            "   [1.00018809]\n",
            "   [0.99977628]\n",
            "   ...\n",
            "   [0.99982134]\n",
            "   [1.00009046]\n",
            "   [1.00025919]]\n",
            "\n",
            "  [[0.99984699]\n",
            "   [1.00024334]\n",
            "   [0.99999647]\n",
            "   ...\n",
            "   [1.00007877]\n",
            "   [1.00025725]\n",
            "   [1.00014711]]\n",
            "\n",
            "  [[0.99974716]\n",
            "   [1.00005029]\n",
            "   [1.00022157]\n",
            "   ...\n",
            "   [1.00025564]\n",
            "   [1.00015708]\n",
            "   [0.99988122]]]\n",
            "\n",
            "\n",
            " ...\n",
            "\n",
            "\n",
            " [[[1.00005303]\n",
            "   [0.99976495]\n",
            "   [1.00025336]\n",
            "   ...\n",
            "   [1.00003978]\n",
            "   [1.00024648]\n",
            "   [1.00025077]]\n",
            "\n",
            "  [[0.99978257]\n",
            "   [1.00002104]\n",
            "   [1.00019246]\n",
            "   ...\n",
            "   [0.99976261]\n",
            "   [0.99997856]\n",
            "   [1.00021423]]\n",
            "\n",
            "  [[0.99976108]\n",
            "   [1.0002519 ]\n",
            "   [0.99991253]\n",
            "   ...\n",
            "   [0.99976683]\n",
            "   [0.99973723]\n",
            "   [0.99992526]]\n",
            "\n",
            "  ...\n",
            "\n",
            "  [[1.00004422]\n",
            "   [1.0001692 ]\n",
            "   [0.99974211]\n",
            "   ...\n",
            "   [0.99976434]\n",
            "   [0.99995751]\n",
            "   [1.00018681]]\n",
            "\n",
            "  [[0.99975368]\n",
            "   [1.00009677]\n",
            "   [1.00012708]\n",
            "   ...\n",
            "   [1.00022373]\n",
            "   [1.00025023]\n",
            "   [1.00007474]]\n",
            "\n",
            "  [[1.00018129]\n",
            "   [0.99974364]\n",
            "   [1.00013956]\n",
            "   ...\n",
            "   [1.00001371]\n",
            "   [0.99979623]\n",
            "   [0.99974142]]]\n",
            "\n",
            "\n",
            " [[[1.00026992]\n",
            "   [0.99975093]\n",
            "   [1.00001615]\n",
            "   ...\n",
            "   [0.9999392 ]\n",
            "   [0.99970107]\n",
            "   [0.99996486]]\n",
            "\n",
            "  [[0.99978491]\n",
            "   [0.9999639 ]\n",
            "   [1.00025933]\n",
            "   ...\n",
            "   [1.0002902 ]\n",
            "   [1.00012167]\n",
            "   [0.99974838]]\n",
            "\n",
            "  [[0.99990488]\n",
            "   [1.00028083]\n",
            "   [0.99977002]\n",
            "   ...\n",
            "   [0.99980879]\n",
            "   [1.00019571]\n",
            "   [1.00025419]]\n",
            "\n",
            "  ...\n",
            "\n",
            "  [[1.00021496]\n",
            "   [1.00004036]\n",
            "   [0.99973495]\n",
            "   ...\n",
            "   [0.99981738]\n",
            "   [0.99972774]\n",
            "   [1.00010084]]\n",
            "\n",
            "  [[0.99978743]\n",
            "   [1.00029634]\n",
            "   [0.99986411]\n",
            "   ...\n",
            "   [0.99976073]\n",
            "   [1.0001516 ]\n",
            "   [1.00028548]]\n",
            "\n",
            "  [[0.99979569]\n",
            "   [0.99994524]\n",
            "   [1.00027141]\n",
            "   ...\n",
            "   [1.00020398]\n",
            "   [1.00025808]\n",
            "   [0.99987387]]]\n",
            "\n",
            "\n",
            " [[[1.00024406]\n",
            "   [0.99975646]\n",
            "   [1.00003137]\n",
            "   ...\n",
            "   [0.99973588]\n",
            "   [0.99979059]\n",
            "   [1.00007868]]\n",
            "\n",
            "  [[0.999955  ]\n",
            "   [0.9998033 ]\n",
            "   [1.00026986]\n",
            "   ...\n",
            "   [1.00002054]\n",
            "   [0.99975738]\n",
            "   [0.99976272]]\n",
            "\n",
            "  [[0.99972846]\n",
            "   [1.00011925]\n",
            "   [1.00013808]\n",
            "   ...\n",
            "   [1.00027548]\n",
            "   [1.00006562]\n",
            "   [0.99978146]]\n",
            "\n",
            "  ...\n",
            "\n",
            "  [[0.99994884]\n",
            "   [0.99981192]\n",
            "   [1.00025893]\n",
            "   ...\n",
            "   [0.99973112]\n",
            "   [0.99983887]\n",
            "   [1.00012318]]\n",
            "\n",
            "  [[1.00025811]\n",
            "   [0.99990571]\n",
            "   [0.99984347]\n",
            "   ...\n",
            "   [1.00007883]\n",
            "   [1.00026717]\n",
            "   [1.0001652 ]]\n",
            "\n",
            "  [[0.99983985]\n",
            "   [1.00026395]\n",
            "   [0.99987119]\n",
            "   ...\n",
            "   [1.00019792]\n",
            "   [0.99992641]\n",
            "   [0.9997335 ]]]]\n"
          ]
        }
      ]
    },
    {
      "cell_type": "code",
      "source": [
        "for i in m:\n",
        "    X_test[i,:,:,0]=(data['holo'][:,:,i])\n",
        "    Y_test[i,0],Y_train[i,1],Y_train[i,2]=data['x_data'][i],data['y_data'][i],data['z_data'][i]"
      ],
      "metadata": {
        "id": "tqaDDfsAoU7K"
      },
      "id": "tqaDDfsAoU7K",
      "execution_count": 14,
      "outputs": []
    },
    {
      "cell_type": "code",
      "execution_count": 13,
      "id": "16d1426a",
      "metadata": {
        "id": "16d1426a",
        "colab": {
          "base_uri": "https://localhost:8080/",
          "height": 169
        },
        "outputId": "f52546f1-67cb-402f-f189-54d74f9ba18b"
      },
      "outputs": [
        {
          "output_type": "error",
          "ename": "NameError",
          "evalue": "ignored",
          "traceback": [
            "\u001b[0;31m---------------------------------------------------------------------------\u001b[0m",
            "\u001b[0;31mNameError\u001b[0m                                 Traceback (most recent call last)",
            "\u001b[0;32m<ipython-input-13-6cced0e31e21>\u001b[0m in \u001b[0;36m<module>\u001b[0;34m\u001b[0m\n\u001b[0;32m----> 1\u001b[0;31m \u001b[0mim\u001b[0m\u001b[0;34m.\u001b[0m\u001b[0mshow\u001b[0m\u001b[0;34m(\u001b[0m\u001b[0mX_train\u001b[0m\u001b[0;34m[\u001b[0m\u001b[0;36m5\u001b[0m\u001b[0;34m,\u001b[0m\u001b[0;34m:\u001b[0m\u001b[0;34m,\u001b[0m\u001b[0;34m:\u001b[0m\u001b[0;34m,\u001b[0m\u001b[0;36m0\u001b[0m\u001b[0;34m]\u001b[0m\u001b[0;34m)\u001b[0m\u001b[0;34m\u001b[0m\u001b[0;34m\u001b[0m\u001b[0m\n\u001b[0m",
            "\u001b[0;31mNameError\u001b[0m: name 'im' is not defined"
          ]
        }
      ],
      "source": [
        "\n",
        "hp.show(X_train[5,:,:,0])"
      ]
    },
    {
      "cell_type": "code",
      "execution_count": 15,
      "id": "7ef02864",
      "metadata": {
        "id": "7ef02864"
      },
      "outputs": [],
      "source": [
        "import tensorflow as tf;\n",
        "from tensorflow.keras import layers;\n",
        "from tensorflow.keras import Model;\n",
        "from tensorflow.keras.callbacks import EarlyStopping"
      ]
    },
    {
      "cell_type": "code",
      "execution_count": 16,
      "id": "1bc0f640",
      "metadata": {
        "id": "1bc0f640",
        "outputId": "7bfb29e6-33fc-4750-d275-8cfa569a2005",
        "colab": {
          "base_uri": "https://localhost:8080/",
          "height": 169
        }
      },
      "outputs": [
        {
          "output_type": "error",
          "ename": "NameError",
          "evalue": "ignored",
          "traceback": [
            "\u001b[0;31m---------------------------------------------------------------------------\u001b[0m",
            "\u001b[0;31mNameError\u001b[0m                                 Traceback (most recent call last)",
            "\u001b[0;32m<ipython-input-16-b79741cf3f70>\u001b[0m in \u001b[0;36m<module>\u001b[0;34m\u001b[0m\n\u001b[0;32m----> 1\u001b[0;31m \u001b[0mprint\u001b[0m\u001b[0;34m(\u001b[0m\u001b[0mtensorflow\u001b[0m\u001b[0;34m.\u001b[0m\u001b[0mconfig\u001b[0m\u001b[0;34m.\u001b[0m\u001b[0mlist_physical_devices\u001b[0m\u001b[0;34m(\u001b[0m\u001b[0;34m'GPU'\u001b[0m\u001b[0;34m)\u001b[0m\u001b[0;34m)\u001b[0m\u001b[0;34m\u001b[0m\u001b[0;34m\u001b[0m\u001b[0m\n\u001b[0m",
            "\u001b[0;31mNameError\u001b[0m: name 'tensorflow' is not defined"
          ]
        }
      ],
      "source": [
        "print(tensorflow.config.list_physical_devices('GPU'))"
      ]
    },
    {
      "cell_type": "code",
      "execution_count": 16,
      "id": "785118b3",
      "metadata": {
        "colab": {
          "base_uri": "https://localhost:8080/"
        },
        "id": "785118b3",
        "outputId": "e173e641-40b7-40af-f5ae-d483c78a279c"
      },
      "outputs": [
        {
          "output_type": "stream",
          "name": "stdout",
          "text": [
            "Model: \"model\"\n",
            "_________________________________________________________________\n",
            " Layer (type)                Output Shape              Param #   \n",
            "=================================================================\n",
            " input_1 (InputLayer)        [(None, 256, 256, 1)]     0         \n",
            "                                                                 \n",
            " conv2d (Conv2D)             (None, 256, 256, 16)      160       \n",
            "                                                                 \n",
            " batch_normalization (BatchN  (None, 256, 256, 16)     64        \n",
            " ormalization)                                                   \n",
            "                                                                 \n",
            " max_pooling2d (MaxPooling2D  (None, 128, 128, 16)     0         \n",
            " )                                                               \n",
            "                                                                 \n",
            " conv2d_1 (Conv2D)           (None, 63, 63, 32)        4640      \n",
            "                                                                 \n",
            " max_pooling2d_1 (MaxPooling  (None, 31, 31, 32)       0         \n",
            " 2D)                                                             \n",
            "                                                                 \n",
            " batch_normalization_1 (Batc  (None, 31, 31, 32)       128       \n",
            " hNormalization)                                                 \n",
            "                                                                 \n",
            " conv2d_2 (Conv2D)           (None, 15, 15, 64)        18496     \n",
            "                                                                 \n",
            " max_pooling2d_2 (MaxPooling  (None, 7, 7, 64)         0         \n",
            " 2D)                                                             \n",
            "                                                                 \n",
            " batch_normalization_2 (Batc  (None, 7, 7, 64)         256       \n",
            " hNormalization)                                                 \n",
            "                                                                 \n",
            " flatten (Flatten)           (None, 3136)              0         \n",
            "                                                                 \n",
            " dense (Dense)               (None, 8)                 25096     \n",
            "                                                                 \n",
            " flatten_1 (Flatten)         (None, 8)                 0         \n",
            "                                                                 \n",
            " dense_1 (Dense)             (None, 3)                 27        \n",
            "                                                                 \n",
            "=================================================================\n",
            "Total params: 48,867\n",
            "Trainable params: 48,643\n",
            "Non-trainable params: 224\n",
            "_________________________________________________________________\n"
          ]
        }
      ],
      "source": [
        "from keras.layers import BatchNormalization\n",
        "import keras\n",
        "from keras.models import Sequential\n",
        "from keras.layers import Dense, Conv2D, MaxPooling2D, Flatten\n",
        "img_input = layers.Input(shape=(256, 256,1))\n",
        "x = layers.Conv2D(16, 3, activation='relu', strides = 1, padding = 'same')(img_input)\n",
        "x = BatchNormalization(axis=-1)(x)\n",
        "x = layers.MaxPool2D(pool_size=2)(x)\n",
        "x = layers.Conv2D(32, 3, activation='relu', strides = 2)(x)\n",
        "x = layers.MaxPool2D(pool_size=2)(x)\n",
        "x = BatchNormalization(axis=-1)(x)\n",
        "x = layers.Conv2D(64, 3, activation='swish', strides = 2)(x)\n",
        "x = layers.MaxPool2D(pool_size=2)(x)\n",
        "x = BatchNormalization(axis=-1)(x)\n",
        "x = layers.Flatten()(x)\n",
        "x = layers.Dense(8, activation='swish')(x)\n",
        "x = layers.Flatten()(x)\n",
        "output = layers.Dense(3, activation='relu')(x)\n",
        "model = Model(img_input, output)\n",
        "model.summary()\n"
      ]
    },
    {
      "cell_type": "code",
      "source": [
        "model.compile(optimizer='adam', loss='mean_squared_error')"
      ],
      "metadata": {
        "id": "KcNiSX_taoUx"
      },
      "id": "KcNiSX_taoUx",
      "execution_count": 17,
      "outputs": []
    },
    {
      "cell_type": "code",
      "source": [
        "\n",
        "\n",
        "# Train the model\n",
        "history = model.fit(X_train, Y_train, epochs=10, batch_size=64)\n",
        "\n",
        "# Evaluate the model on the test set\n",
        "test_loss = model.evaluate(X_test, Y_test)"
      ],
      "metadata": {
        "colab": {
          "base_uri": "https://localhost:8080/"
        },
        "id": "r-0FSS2FaA4y",
        "outputId": "801ca8fd-69bf-4122-cd2e-57c8fc6d5876"
      },
      "id": "r-0FSS2FaA4y",
      "execution_count": 18,
      "outputs": [
        {
          "output_type": "stream",
          "name": "stdout",
          "text": [
            "Epoch 1/10\n",
            "63/63 [==============================] - 160s 3s/step - loss: 200495.8438\n",
            "Epoch 2/10\n",
            "63/63 [==============================] - 158s 3s/step - loss: 49141.1797\n",
            "Epoch 3/10\n",
            "63/63 [==============================] - 157s 2s/step - loss: 4579.5801\n",
            "Epoch 4/10\n",
            "63/63 [==============================] - 158s 3s/step - loss: 713.0755\n",
            "Epoch 5/10\n",
            "63/63 [==============================] - 157s 2s/step - loss: 301.5938\n",
            "Epoch 6/10\n",
            "63/63 [==============================] - 158s 3s/step - loss: 273.9107\n",
            "Epoch 7/10\n",
            "63/63 [==============================] - 160s 3s/step - loss: 213.4240\n",
            "Epoch 8/10\n",
            "63/63 [==============================] - 165s 3s/step - loss: 172.3345\n",
            "Epoch 9/10\n",
            "63/63 [==============================] - 157s 2s/step - loss: 169.2380\n",
            "Epoch 10/10\n",
            "63/63 [==============================] - 157s 2s/step - loss: 120.7295\n",
            "63/63 [==============================] - 23s 355ms/step - loss: 648149.8750\n"
          ]
        }
      ]
    },
    {
      "cell_type": "code",
      "execution_count": null,
      "id": "a7bc2497",
      "metadata": {
        "id": "a7bc2497"
      },
      "outputs": [],
      "source": []
    }
  ],
  "metadata": {
    "kernelspec": {
      "display_name": "Python 3 (ipykernel)",
      "language": "python",
      "name": "python3"
    },
    "language_info": {
      "codemirror_mode": {
        "name": "ipython",
        "version": 3
      },
      "file_extension": ".py",
      "mimetype": "text/x-python",
      "name": "python",
      "nbconvert_exporter": "python",
      "pygments_lexer": "ipython3",
      "version": "3.9.12"
    },
    "colab": {
      "provenance": [],
      "include_colab_link": true
    },
    "accelerator": "TPU",
    "gpuClass": "standard"
  },
  "nbformat": 4,
  "nbformat_minor": 5
}